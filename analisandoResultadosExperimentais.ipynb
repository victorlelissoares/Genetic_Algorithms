{
 "cells": [
  {
   "cell_type": "markdown",
   "id": "ab020a80-ca6c-46c6-9112-260445b6fc00",
   "metadata": {},
   "source": [
    "Script para realizar experimentos do tcc"
   ]
  },
  {
   "cell_type": "code",
   "execution_count": 1,
   "id": "87914fbd-8b5f-44e2-b7dd-c20b7d76bdd8",
   "metadata": {},
   "outputs": [],
   "source": [
    "import os\n",
    "import re\n",
    "import csv\n",
    "import math\n",
    "import numpy as np\n",
    "import glob"
   ]
  },
  {
   "cell_type": "code",
   "execution_count": 2,
   "id": "a74e30df-cf33-45e6-8db7-b2e191f94f36",
   "metadata": {},
   "outputs": [
    {
     "name": "stdout",
     "output_type": "stream",
     "text": [
      "/home/lelis/Documents/Genetic_Algorithms/vrp/benchmarks/E\n",
      "['E-n51-k5.vrp', 'E-n101-k14.vrp', 'E-n23-k3.vrp', 'E-n76-k8.vrp', 'E-n22-k4.vrp', 'E-n101-k8.vrp', 'E-n30-k3.vrp', 'E-n76-k10.vrp', 'E-n76-k7.vrp', 'E-n76-k14.vrp', 'E-n33-k4.vrp']\n"
     ]
    }
   ],
   "source": [
    "conjunto = \"E\"\n",
    "results = \"/home/lelis/Documents/Genetic_Algorithms/vrp/results/\"\n",
    "benchmark = \"/home/lelis/Documents/Genetic_Algorithms/vrp/benchmarks/\"\n",
    "\n",
    "diretorio = os.path.join(benchmark, conjunto)  # Use o os.path.join para criar o caminho completo\n",
    "print(diretorio)\n",
    "\n",
    "if os.path.exists(diretorio):\n",
    "    files_benchmark = [arquivo for arquivo in os.listdir(diretorio) if arquivo.endswith(\".vrp\")]\n",
    "    print(files_benchmark)\n",
    "else:\n",
    "    print(\"O diretório não existe:\", diretorio)"
   ]
  },
  {
   "cell_type": "code",
   "execution_count": 3,
   "id": "8f6c48b0-2948-4001-8536-87f935d83ca5",
   "metadata": {},
   "outputs": [
    {
     "name": "stdout",
     "output_type": "stream",
     "text": [
      "Caminho completo: /home/lelis/Documents/Genetic_Algorithms/vrp/results/E\n",
      "Diretório atual alterado para: /home/lelis/Documents/Genetic_Algorithms/vrp/results/E\n"
     ]
    }
   ],
   "source": [
    "# Certifique-se de que dataset seja uma string, não um dicionário\n",
    "if isinstance(conjunto, str):\n",
    "    caminho_completo = os.path.join(results,conjunto)\n",
    "\n",
    "    print(\"Caminho completo:\", caminho_completo)\n",
    "\n",
    "    try:\n",
    "        os.chdir(caminho_completo)\n",
    "        print(f\"Diretório atual alterado para: {os.getcwd()}\")\n",
    "    except OSError as e:\n",
    "        print(f\"Erro ao alterar o diretório: {e}\")\n",
    "else:\n",
    "    print(\"A variável 'dataset' não é uma string.\")"
   ]
  },
  {
   "cell_type": "code",
   "execution_count": 4,
   "id": "da0fcdee-02a9-4664-83da-774e99f35361",
   "metadata": {},
   "outputs": [
    {
     "name": "stdout",
     "output_type": "stream",
     "text": [
      "['E-n22-k4.out', 'E-n76-k10.out', 'E-n76-k14.out', 'E-n51-k5.out', 'E-n33-k4.out', 'E-n101-k14.out', 'E-n76-k7.out', 'E-n30-k3.out', 'E-n101-k8.out', 'E-n76-k8.out', 'E-n23-k3.out']\n"
     ]
    }
   ],
   "source": [
    "files = [arquivo for arquivo in os.listdir() if arquivo.endswith(\".out\")]\n",
    "print(files)"
   ]
  },
  {
   "cell_type": "code",
   "execution_count": 5,
   "id": "5f9846e0-5b40-4e17-afdc-8bfcb6c13bc3",
   "metadata": {},
   "outputs": [
    {
     "data": {
      "text/plain": [
       "101"
      ]
     },
     "execution_count": 5,
     "metadata": {},
     "output_type": "execute_result"
    }
   ],
   "source": [
    "results = {\"melhor\": [float('inf'), None], \"pior\": [float('-inf'), None], \"media\": [0, 0]}\n",
    "saida = open('result.csv', \"w\", newline='')\n",
    "writer = csv.writer(saida)\n",
    "writer.writerow([\"Dataset\",\"Melhor Resultado\",\"Tempo\",\n",
    "                 \"Resultado Médio\",\"Tempo\",\n",
    "                 \"Pior Resultado\",\"Tempo\",\n",
    "                 \"Desvio Padrão\",\"Valor Otimo\"])\n"
   ]
  },
  {
   "cell_type": "code",
   "execution_count": 6,
   "id": "e51f5e56-4157-4d97-ab7d-9aedfac33c1b",
   "metadata": {},
   "outputs": [],
   "source": [
    "def valorOtimo(fileName):\n",
    "    with open(benchmark + conjunto + '/' + fileName[:-3] + 'vrp', 'r') as arquivo:\n",
    "        print('Lendo instância: ' + benchmark + conjunto + '/' + fileName[:-3] + 'vrp')\n",
    "        # Lê o conteúdo do arquivo\n",
    "        conteudo = arquivo.read()\n",
    "        \n",
    "        # Procura por um número após \"Optimal value:\"\n",
    "        match = re.search(r'Optimal value:\\s*([\\d.]+)', conteudo)\n",
    "        print('Match:' + str(match))\n",
    "\n",
    "        #verifica se está escrito como 'Best Value'\n",
    "        if(match is None):\n",
    "            match = re.search(r'Best value:\\s*(\\d+)', conteudo)\n",
    "            print('Match:' + str(match))\n",
    "        \n",
    "        # Verifica se houve um match\n",
    "        if match:\n",
    "            # O número está no grupo 1 da correspondência (índice 1)\n",
    "            numero = match.group(1)\n",
    "            return numero\n"
   ]
  },
  {
   "cell_type": "code",
   "execution_count": 7,
   "id": "31687094-d06c-4617-aa16-8dc32385fdac",
   "metadata": {},
   "outputs": [
    {
     "name": "stdout",
     "output_type": "stream",
     "text": [
      "Lendo Resultado /home/lelis/Documents/Genetic_Algorithms/vrp/results/E/E-n22-k4.out\n",
      "Lendo instância: /home/lelis/Documents/Genetic_Algorithms/vrp/benchmarks/E/E-n22-k4.vrp\n",
      "Match:<re.Match object; span=(73, 91), match='Optimal value: 375'>\n",
      "{'melhor': [659.59, ['43']], 'pior': [740.49, ['44']], 'media': [672.0338709677418, 41.16129032258065]} , Desvio padrão 24.23993299633203 375\n",
      "Lendo instância: /home/lelis/Documents/Genetic_Algorithms/vrp/benchmarks/E/E-n22-k4.vrp\n",
      "Match:<re.Match object; span=(73, 91), match='Optimal value: 375'>\n",
      "Lendo Resultado /home/lelis/Documents/Genetic_Algorithms/vrp/results/E/E-n76-k10.out\n",
      "Lendo instância: /home/lelis/Documents/Genetic_Algorithms/vrp/benchmarks/E/E-n76-k10.vrp\n",
      "Match:<re.Match object; span=(75, 93), match='Optimal value: 830'>\n",
      "{'melhor': [2392.33, ['110']], 'pior': [2940.28, ['109']], 'media': [2622.113548387096, 106.48387096774194]} , Desvio padrão 123.90382544358975 830\n",
      "Lendo instância: /home/lelis/Documents/Genetic_Algorithms/vrp/benchmarks/E/E-n76-k10.vrp\n",
      "Match:<re.Match object; span=(75, 93), match='Optimal value: 830'>\n",
      "Lendo Resultado /home/lelis/Documents/Genetic_Algorithms/vrp/results/E/E-n76-k14.out\n",
      "Lendo instância: /home/lelis/Documents/Genetic_Algorithms/vrp/benchmarks/E/E-n76-k14.vrp\n",
      "Match:<re.Match object; span=(75, 94), match='Optimal value: 1021'>\n",
      "{'melhor': [2504.19, ['107']], 'pior': [2850.13, ['107']], 'media': [2617.3729032258066, 107.12903225806451]} , Desvio padrão 87.3835701083956 1021\n",
      "Lendo instância: /home/lelis/Documents/Genetic_Algorithms/vrp/benchmarks/E/E-n76-k14.vrp\n",
      "Match:<re.Match object; span=(75, 94), match='Optimal value: 1021'>\n",
      "Lendo Resultado /home/lelis/Documents/Genetic_Algorithms/vrp/results/E/E-n51-k5.out\n",
      "Lendo instância: /home/lelis/Documents/Genetic_Algorithms/vrp/benchmarks/E/E-n51-k5.vrp\n",
      "Match:<re.Match object; span=(73, 91), match='Optimal value: 521'>\n",
      "{'melhor': [1539.08, ['70']], 'pior': [1871.66, ['72']], 'media': [1626.1912903225805, 74.09677419354838]} , Desvio padrão 80.18182298930905 521\n",
      "Lendo instância: /home/lelis/Documents/Genetic_Algorithms/vrp/benchmarks/E/E-n51-k5.vrp\n",
      "Match:<re.Match object; span=(73, 91), match='Optimal value: 521'>\n",
      "Lendo Resultado /home/lelis/Documents/Genetic_Algorithms/vrp/results/E/E-n33-k4.out\n",
      "Lendo instância: /home/lelis/Documents/Genetic_Algorithms/vrp/benchmarks/E/E-n33-k4.vrp\n",
      "Match:<re.Match object; span=(73, 91), match='Optimal value: 835'>\n",
      "{'melhor': [1324.45, ['50']], 'pior': [1499.31, ['58']], 'media': [1390.2741935483866, 52.87096774193548]} , Desvio padrão 45.81329503781867 835\n",
      "Lendo instância: /home/lelis/Documents/Genetic_Algorithms/vrp/benchmarks/E/E-n33-k4.vrp\n",
      "Match:<re.Match object; span=(73, 91), match='Optimal value: 835'>\n",
      "Lendo Resultado /home/lelis/Documents/Genetic_Algorithms/vrp/results/E/E-n101-k14.out\n",
      "Lendo instância: /home/lelis/Documents/Genetic_Algorithms/vrp/benchmarks/E/E-n101-k14.vrp\n",
      "Match:None\n",
      "Match:<re.Match object; span=(76, 92), match='Best value: 1071'>\n",
      "{'melhor': [3337.33, ['147']], 'pior': [3918.61, ['137']], 'media': [3571.9707142857146, 271.04761904761904]} , Desvio padrão 120.97173824794503 1071\n",
      "Lendo instância: /home/lelis/Documents/Genetic_Algorithms/vrp/benchmarks/E/E-n101-k14.vrp\n",
      "Match:None\n",
      "Match:<re.Match object; span=(76, 92), match='Best value: 1071'>\n",
      "Lendo Resultado /home/lelis/Documents/Genetic_Algorithms/vrp/results/E/E-n76-k7.out\n",
      "Lendo instância: /home/lelis/Documents/Genetic_Algorithms/vrp/benchmarks/E/E-n76-k7.vrp\n",
      "Match:<re.Match object; span=(73, 91), match='Optimal value: 682'>\n",
      "{'melhor': [2242.01, ['113']], 'pior': [2432.52, ['107']], 'media': [2268.8283870967743, 106.61290322580645]} , Desvio padrão 41.84371482871308 682\n",
      "Lendo instância: /home/lelis/Documents/Genetic_Algorithms/vrp/benchmarks/E/E-n76-k7.vrp\n",
      "Match:<re.Match object; span=(73, 91), match='Optimal value: 682'>\n",
      "Lendo Resultado /home/lelis/Documents/Genetic_Algorithms/vrp/results/E/E-n30-k3.out\n",
      "Lendo instância: /home/lelis/Documents/Genetic_Algorithms/vrp/benchmarks/E/E-n30-k3.vrp\n",
      "Match:<re.Match object; span=(73, 91), match='Optimal value: 534'>\n",
      "{'melhor': [1170.47, ['51']], 'pior': [1424.8, ['55']], 'media': [1265.935806451613, 51.12903225806452]} , Desvio padrão 58.5809472714655 534\n",
      "Lendo instância: /home/lelis/Documents/Genetic_Algorithms/vrp/benchmarks/E/E-n30-k3.vrp\n",
      "Match:<re.Match object; span=(73, 91), match='Optimal value: 534'>\n",
      "Lendo Resultado /home/lelis/Documents/Genetic_Algorithms/vrp/results/E/E-n101-k8.out\n",
      "Lendo instância: /home/lelis/Documents/Genetic_Algorithms/vrp/benchmarks/E/E-n101-k8.vrp\n",
      "Match:None\n",
      "Match:<re.Match object; span=(74, 89), match='Best value: 817'>\n",
      "{'melhor': [3167.03, ['135']], 'pior': [3694.47, ['137']], 'media': [3300.683225806452, 132.38709677419354]} , Desvio padrão 105.63138026804974 817\n",
      "Lendo instância: /home/lelis/Documents/Genetic_Algorithms/vrp/benchmarks/E/E-n101-k8.vrp\n",
      "Match:None\n",
      "Match:<re.Match object; span=(74, 89), match='Best value: 817'>\n",
      "Lendo Resultado /home/lelis/Documents/Genetic_Algorithms/vrp/results/E/E-n76-k8.out\n",
      "Lendo instância: /home/lelis/Documents/Genetic_Algorithms/vrp/benchmarks/E/E-n76-k8.vrp\n",
      "Match:None\n",
      "Match:<re.Match object; span=(73, 88), match='Best value: 735'>\n",
      "{'melhor': [2458.69, ['108']], 'pior': [2820.09, ['107']], 'media': [2542.372903225806, 105.83870967741936]} , Desvio padrão 88.34121966305169 735\n",
      "Lendo instância: /home/lelis/Documents/Genetic_Algorithms/vrp/benchmarks/E/E-n76-k8.vrp\n",
      "Match:None\n",
      "Match:<re.Match object; span=(73, 88), match='Best value: 735'>\n",
      "Lendo Resultado /home/lelis/Documents/Genetic_Algorithms/vrp/results/E/E-n23-k3.out\n",
      "Lendo instância: /home/lelis/Documents/Genetic_Algorithms/vrp/benchmarks/E/E-n23-k3.vrp\n",
      "Match:<re.Match object; span=(73, 91), match='Optimal value: 569'>\n",
      "{'melhor': [1040.21, ['43']], 'pior': [1218.51, ['42']], 'media': [1113.3932258064517, 41.74193548387097]} , Desvio padrão 41.61218222935307 569\n",
      "Lendo instância: /home/lelis/Documents/Genetic_Algorithms/vrp/benchmarks/E/E-n23-k3.vrp\n",
      "Match:<re.Match object; span=(73, 91), match='Optimal value: 569'>\n"
     ]
    }
   ],
   "source": [
    "for file in files:\n",
    "    values = []\n",
    "    count = 0\n",
    "    print(\"Lendo Resultado \" + os.getcwd() + \"/\" +file)\n",
    "    try:\n",
    "        namefile = open(file, mode=\"r\")\n",
    "\n",
    "        while True:\n",
    "            count  += 1;\n",
    "            # Linha com a distância\n",
    "            distancia = namefile.readline()\n",
    "            #print(distancia)\n",
    "            if not distancia:\n",
    "                break\n",
    "            distancia = float(distancia)\n",
    "            values.append(float(distancia))\n",
    "            \n",
    "\n",
    "            # Linha com o tempo\n",
    "            tempo = namefile.readline()\n",
    "            tempo = re.findall(r'\\d+', tempo)\n",
    "            if not tempo:\n",
    "                break\n",
    "\n",
    "            # Atualize os resultados\n",
    "            if distancia < results['melhor'][0]:\n",
    "                results['melhor'] = [distancia, tempo]\n",
    "            elif distancia > results['pior'][0]:\n",
    "                results['pior'] = [distancia, tempo]\n",
    "\n",
    "            results['media'] = [results['media'][0] + distancia, results['media'][1] + int(tempo[0])]\n",
    "\n",
    "    except FileNotFoundError:\n",
    "        print(f\"O arquivo '{file}' não foi encontrado.\")\n",
    "    except Exception as e:\n",
    "        print(f\"Ocorreu um erro ao processar o arquivo '{file}': {str(e)}\")\n",
    "        \n",
    "    results['media'] = [results['media'][0]/count, results['media'][1]/count]\n",
    "    \n",
    "    dataset = re.sub(r'\\.out$', '', file)#nome do arquivo sem o '.out'\n",
    "\n",
    "    np_values = np.array([values])\n",
    "\n",
    "    print(results, \", Desvio padrão \" + str(np_values.std()), valorOtimo(file))\n",
    "\n",
    "    melhor_tempo_execucao = results['melhor'][1][0] if results['melhor'][1] is not None else \"\"\n",
    "    media_tempo_execucao = results['media'][1] if results['media'][1] is not None else \"\"\n",
    "    pior_tempo_execucao = results['pior'][1][0] if results['pior'][1] is not None else \"\"\n",
    "    \n",
    "    writer.writerow([dataset, results['melhor'][0], melhor_tempo_execucao, results['media'][0], media_tempo_execucao,\n",
    "                     results['pior'][0], pior_tempo_execucao, np_values.std(), valorOtimo(file)])\n",
    "    \n",
    "    results = {\"melhor\": [float('inf'), None], \"pior\": [float('-inf'), None], \"media\": [0, 0]}\n",
    "saida.close()"
   ]
  }
 ],
 "metadata": {
  "kernelspec": {
   "display_name": "Python 3 (ipykernel)",
   "language": "python",
   "name": "python3"
  },
  "language_info": {
   "codemirror_mode": {
    "name": "ipython",
    "version": 3
   },
   "file_extension": ".py",
   "mimetype": "text/x-python",
   "name": "python",
   "nbconvert_exporter": "python",
   "pygments_lexer": "ipython3",
   "version": "3.10.12"
  }
 },
 "nbformat": 4,
 "nbformat_minor": 5
}
